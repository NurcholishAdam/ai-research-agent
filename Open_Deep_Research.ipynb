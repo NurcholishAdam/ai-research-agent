{
  "nbformat": 4,
  "nbformat_minor": 0,
  "metadata": {
    "colab": {
      "provenance": [],
      "authorship_tag": "ABX9TyMgMoAvKE9sXyk/DORwSxED",
      "include_colab_link": true
    },
    "kernelspec": {
      "name": "python3",
      "display_name": "Python 3"
    },
    "language_info": {
      "name": "python"
    }
  },
  "cells": [
    {
      "cell_type": "markdown",
      "metadata": {
        "id": "view-in-github",
        "colab_type": "text"
      },
      "source": [
        "<a href=\"https://colab.research.google.com/github/NurcholishAdam/ai-research-agent/blob/main/Open_Deep_Research.ipynb\" target=\"_parent\"><img src=\"https://colab.research.google.com/assets/colab-badge.svg\" alt=\"Open In Colab\"/></a>"
      ]
    },
    {
      "cell_type": "code",
      "execution_count": 2,
      "metadata": {
        "colab": {
          "base_uri": "https://localhost:8080/"
        },
        "id": "a3nKp1-ECs1Z",
        "outputId": "b29a282f-1c70-4258-a90f-6d9d46c0f1fe"
      },
      "outputs": [
        {
          "output_type": "stream",
          "name": "stdout",
          "text": [
            "Cloning into 'open_deep_research'...\n",
            "remote: Enumerating objects: 1662, done.\u001b[K\n",
            "remote: Counting objects: 100% (873/873), done.\u001b[K\n",
            "remote: Compressing objects: 100% (292/292), done.\u001b[K\n",
            "remote: Total 1662 (delta 719), reused 581 (delta 581), pack-reused 789 (from 2)\u001b[K\n",
            "Receiving objects: 100% (1662/1662), 2.14 MiB | 17.13 MiB/s, done.\n",
            "Resolving deltas: 100% (1001/1001), done.\n"
          ]
        }
      ],
      "source": [
        "!git clone https://github.com/langchain-ai/open_deep_research.git\n",
        "!cd open_deep_research"
      ]
    },
    {
      "cell_type": "code",
      "source": [
        "!cp .env.example .env"
      ],
      "metadata": {
        "colab": {
          "base_uri": "https://localhost:8080/"
        },
        "id": "R-_QKoXkDi3w",
        "outputId": "577e5ed1-52a4-4923-b4c6-a990be814771"
      },
      "execution_count": 3,
      "outputs": [
        {
          "output_type": "stream",
          "name": "stdout",
          "text": [
            "cp: cannot stat '.env.example': No such file or directory\n"
          ]
        }
      ]
    }
  ]
}